{
  "nbformat": 4,
  "nbformat_minor": 0,
  "metadata": {
    "colab": {
      "name": "ass5ipynb",
      "provenance": [],
      "authorship_tag": "ABX9TyNAdq/hwr7pjhID0HdkA4il",
      "include_colab_link": true
    },
    "kernelspec": {
      "name": "python3",
      "display_name": "Python 3"
    },
    "language_info": {
      "name": "python"
    }
  },
  "cells": [
    {
      "cell_type": "markdown",
      "metadata": {
        "id": "view-in-github",
        "colab_type": "text"
      },
      "source": [
        "<a href=\"https://colab.research.google.com/github/Anjaligundam/AI/blob/main/ass5ipynb.ipynb\" target=\"_parent\"><img src=\"https://colab.research.google.com/assets/colab-badge.svg\" alt=\"Open In Colab\"/></a>"
      ]
    },
    {
      "cell_type": "code",
      "metadata": {
        "colab": {
          "base_uri": "https://localhost:8080/"
        },
        "id": "SYkm4CkGBY9x",
        "outputId": "538517fb-b05f-45b2-f2c2-366e32f89072"
      },
      "source": [
        "from google.colab import drive\n",
        "drive.mount('/content/drive')"
      ],
      "execution_count": 1,
      "outputs": [
        {
          "output_type": "stream",
          "name": "stdout",
          "text": [
            "Mounted at /content/drive\n"
          ]
        }
      ]
    },
    {
      "cell_type": "code",
      "metadata": {
        "id": "QRJ2SG7jCzxi"
      },
      "source": [
        ""
      ],
      "execution_count": null,
      "outputs": []
    },
    {
      "cell_type": "code",
      "metadata": {
        "id": "rEkmtO1RCzzy"
      },
      "source": [
        "import numpy as np\n",
        "import math as mt\n",
        "import pandas as pd\n",
        "from sklearn.model_selection import train_test_split\n",
        "from sklearn.metrics import mean_absolute_error,mean_squared_error"
      ],
      "execution_count": 2,
      "outputs": []
    },
    {
      "cell_type": "code",
      "metadata": {
        "colab": {
          "base_uri": "https://localhost:8080/",
          "height": 204
        },
        "id": "RXi96l76DWp-",
        "outputId": "55bb9f8b-6d02-4c94-cfa5-eae24545545f"
      },
      "source": [
        "data = pd.read_excel('/content/drive/MyDrive/AI/data.xlsx')\n",
        "data.head()"
      ],
      "execution_count": 3,
      "outputs": [
        {
          "output_type": "execute_result",
          "data": {
            "text/html": [
              "<div>\n",
              "<style scoped>\n",
              "    .dataframe tbody tr th:only-of-type {\n",
              "        vertical-align: middle;\n",
              "    }\n",
              "\n",
              "    .dataframe tbody tr th {\n",
              "        vertical-align: top;\n",
              "    }\n",
              "\n",
              "    .dataframe thead th {\n",
              "        text-align: right;\n",
              "    }\n",
              "</style>\n",
              "<table border=\"1\" class=\"dataframe\">\n",
              "  <thead>\n",
              "    <tr style=\"text-align: right;\">\n",
              "      <th></th>\n",
              "      <th>Unnamed: 0</th>\n",
              "      <th>L(T-3)</th>\n",
              "      <th>L(T-2)</th>\n",
              "      <th>L(T-1)</th>\n",
              "      <th>L(T)</th>\n",
              "    </tr>\n",
              "  </thead>\n",
              "  <tbody>\n",
              "    <tr>\n",
              "      <th>0</th>\n",
              "      <td>1</td>\n",
              "      <td>5551.82208</td>\n",
              "      <td>4983.17184</td>\n",
              "      <td>4888.39680</td>\n",
              "      <td>5072.95872</td>\n",
              "    </tr>\n",
              "    <tr>\n",
              "      <th>1</th>\n",
              "      <td>2</td>\n",
              "      <td>5196.25980</td>\n",
              "      <td>5641.29720</td>\n",
              "      <td>7153.17732</td>\n",
              "      <td>7849.80504</td>\n",
              "    </tr>\n",
              "    <tr>\n",
              "      <th>2</th>\n",
              "      <td>3</td>\n",
              "      <td>6329.97504</td>\n",
              "      <td>6292.87560</td>\n",
              "      <td>5349.80160</td>\n",
              "      <td>5225.40936</td>\n",
              "    </tr>\n",
              "    <tr>\n",
              "      <th>3</th>\n",
              "      <td>4</td>\n",
              "      <td>5000.47452</td>\n",
              "      <td>4775.53968</td>\n",
              "      <td>6177.05676</td>\n",
              "      <td>6177.05676</td>\n",
              "    </tr>\n",
              "    <tr>\n",
              "      <th>4</th>\n",
              "      <td>5</td>\n",
              "      <td>6155.70120</td>\n",
              "      <td>6212.12976</td>\n",
              "      <td>7424.25264</td>\n",
              "      <td>7407.41760</td>\n",
              "    </tr>\n",
              "  </tbody>\n",
              "</table>\n",
              "</div>"
            ],
            "text/plain": [
              "   Unnamed: 0      L(T-3)      L(T-2)      L(T-1)        L(T)\n",
              "0           1  5551.82208  4983.17184  4888.39680  5072.95872\n",
              "1           2  5196.25980  5641.29720  7153.17732  7849.80504\n",
              "2           3  6329.97504  6292.87560  5349.80160  5225.40936\n",
              "3           4  5000.47452  4775.53968  6177.05676  6177.05676\n",
              "4           5  6155.70120  6212.12976  7424.25264  7407.41760"
            ]
          },
          "metadata": {},
          "execution_count": 3
        }
      ]
    },
    {
      "cell_type": "code",
      "metadata": {
        "colab": {
          "base_uri": "https://localhost:8080/",
          "height": 289
        },
        "id": "GhBT-pGDDsUb",
        "outputId": "443b659d-a6b3-4b12-ad92-ea033ebb89b2"
      },
      "source": [
        "def normalize(column):\n",
        "    c_max, c_min = np.max(column), np.min(column)\n",
        "    for i in range(len(column)):\n",
        "        column.iloc[i] = (column.iloc[i] - c_min) / (c_max - c_min)\n",
        "    return c_max, c_min\n",
        "x1max, x1min = normalize(data['L(T-3)'])\n",
        "x2max, x2min = normalize(data['L(T-2)'])\n",
        "x3max, x3min = normalize(data['L(T-1)'])\n",
        "ymax, ymin = normalize(data['L(T)'])\n",
        "data.head()"
      ],
      "execution_count": 4,
      "outputs": [
        {
          "output_type": "stream",
          "name": "stderr",
          "text": [
            "/usr/local/lib/python3.7/dist-packages/pandas/core/indexing.py:670: SettingWithCopyWarning: \n",
            "A value is trying to be set on a copy of a slice from a DataFrame\n",
            "\n",
            "See the caveats in the documentation: https://pandas.pydata.org/pandas-docs/stable/user_guide/indexing.html#returning-a-view-versus-a-copy\n",
            "  iloc._setitem_with_indexer(indexer, value)\n"
          ]
        },
        {
          "output_type": "execute_result",
          "data": {
            "text/html": [
              "<div>\n",
              "<style scoped>\n",
              "    .dataframe tbody tr th:only-of-type {\n",
              "        vertical-align: middle;\n",
              "    }\n",
              "\n",
              "    .dataframe tbody tr th {\n",
              "        vertical-align: top;\n",
              "    }\n",
              "\n",
              "    .dataframe thead th {\n",
              "        text-align: right;\n",
              "    }\n",
              "</style>\n",
              "<table border=\"1\" class=\"dataframe\">\n",
              "  <thead>\n",
              "    <tr style=\"text-align: right;\">\n",
              "      <th></th>\n",
              "      <th>Unnamed: 0</th>\n",
              "      <th>L(T-3)</th>\n",
              "      <th>L(T-2)</th>\n",
              "      <th>L(T-1)</th>\n",
              "      <th>L(T)</th>\n",
              "    </tr>\n",
              "  </thead>\n",
              "  <tbody>\n",
              "    <tr>\n",
              "      <th>0</th>\n",
              "      <td>1</td>\n",
              "      <td>0.318003</td>\n",
              "      <td>0.119312</td>\n",
              "      <td>0.064412</td>\n",
              "      <td>0.121468</td>\n",
              "    </tr>\n",
              "    <tr>\n",
              "      <th>1</th>\n",
              "      <td>2</td>\n",
              "      <td>0.158090</td>\n",
              "      <td>0.497492</td>\n",
              "      <td>0.899988</td>\n",
              "      <td>1.000000</td>\n",
              "    </tr>\n",
              "    <tr>\n",
              "      <th>2</th>\n",
              "      <td>3</td>\n",
              "      <td>0.667975</td>\n",
              "      <td>0.871910</td>\n",
              "      <td>0.234645</td>\n",
              "      <td>0.169700</td>\n",
              "    </tr>\n",
              "    <tr>\n",
              "      <th>3</th>\n",
              "      <td>4</td>\n",
              "      <td>0.070036</td>\n",
              "      <td>0.000000</td>\n",
              "      <td>0.539855</td>\n",
              "      <td>0.470780</td>\n",
              "    </tr>\n",
              "    <tr>\n",
              "      <th>4</th>\n",
              "      <td>5</td>\n",
              "      <td>0.589596</td>\n",
              "      <td>0.825511</td>\n",
              "      <td>1.000000</td>\n",
              "      <td>0.860038</td>\n",
              "    </tr>\n",
              "  </tbody>\n",
              "</table>\n",
              "</div>"
            ],
            "text/plain": [
              "   Unnamed: 0    L(T-3)    L(T-2)    L(T-1)      L(T)\n",
              "0           1  0.318003  0.119312  0.064412  0.121468\n",
              "1           2  0.158090  0.497492  0.899988  1.000000\n",
              "2           3  0.667975  0.871910  0.234645  0.169700\n",
              "3           4  0.070036  0.000000  0.539855  0.470780\n",
              "4           5  0.589596  0.825511  1.000000  0.860038"
            ]
          },
          "metadata": {},
          "execution_count": 4
        }
      ]
    },
    {
      "cell_type": "code",
      "metadata": {
        "colab": {
          "base_uri": "https://localhost:8080/"
        },
        "id": "yGEO5LbyEB9Y",
        "outputId": "784ac527-d66d-4bcf-f9d8-9835412cf060"
      },
      "source": [
        "data.isnull().sum()"
      ],
      "execution_count": 5,
      "outputs": [
        {
          "output_type": "execute_result",
          "data": {
            "text/plain": [
              "Unnamed: 0    0\n",
              "L(T-3)        0\n",
              "L(T-2)        0\n",
              "L(T-1)        0\n",
              "L(T)          0\n",
              "dtype: int64"
            ]
          },
          "metadata": {},
          "execution_count": 5
        }
      ]
    },
    {
      "cell_type": "code",
      "metadata": {
        "id": "CtQa2h5QEgTd"
      },
      "source": [
        "X = data [['L(T-3)', 'L(T-2)', 'L(T-1)']]\n",
        "Y = data ['L(T)']\n",
        "xtrain, xtest, ytrain, ytest = train_test_split(X, Y, test_size=0.1, random_state=101)"
      ],
      "execution_count": 6,
      "outputs": []
    },
    {
      "cell_type": "code",
      "metadata": {
        "id": "JZr2W9fcEx0v"
      },
      "source": [
        "m = [np.random.uniform(-10, 10) for i in range(xtrain.shape[1])]\n",
        "c = np.random.uniform(-10, 10)\n",
        "eeta = 0.1\n",
        "epochs = 500"
      ],
      "execution_count": 7,
      "outputs": []
    },
    {
      "cell_type": "code",
      "metadata": {
        "colab": {
          "base_uri": "https://localhost:8080/"
        },
        "id": "EcbxY8o_E7XM",
        "outputId": "b4218bd5-009d-49d7-b2f1-47a72f7ceab5"
      },
      "source": [
        "for _ in range(epochs):\n",
        "    for i in range(xtrain.shape[0]):\n",
        "        y, ypred = ytrain.iloc[i], sum([xtrain.iat[i,z] * m[z] for z in range(xtrain.shape[1])]) + c\n",
        "        gradm = [-1 * xtrain.iat[i,j] * (y - ypred) for j in range(xtrain.shape[1])]\n",
        "        gradc = -1 * (y - ypred)\n",
        "        c = c - eeta * gradc\n",
        "        for j in range(len(m)):\n",
        "            m[j] = m[j] - eeta * gradm[j]\n",
        "print(m, c)"
      ],
      "execution_count": 8,
      "outputs": [
        {
          "output_type": "stream",
          "name": "stdout",
          "text": [
            "[-0.46755849374085307, 0.20180850794182353, 0.9712218299383012] -0.006399276986830405\n"
          ]
        }
      ]
    },
    {
      "cell_type": "code",
      "metadata": {
        "id": "86u3GbGAFWzG"
      },
      "source": [
        "ytrainPred = []\n",
        "for x in range(xtrain.shape[0]):\n",
        "    ytrainPred.append(sum([xtrain.iat[x, z] * m[z] for z in range(xtrain.shape[1])]) + c)\n",
        "ytestPred = []\n",
        "for x in range(xtest.shape[0]):\n",
        "    ytestPred.append(sum([xtest.iat[x, z] * m[z] for z in range(xtest.shape[1])]) + c)"
      ],
      "execution_count": 9,
      "outputs": []
    },
    {
      "cell_type": "code",
      "metadata": {
        "colab": {
          "base_uri": "https://localhost:8080/"
        },
        "id": "-ZVsXD-SFtb0",
        "outputId": "98d0f3f8-da98-4c62-8fef-9979472ecac0"
      },
      "source": [
        "xtrain['L(T-3)'] = xtrain['L(T-3)'] * (x1max - x1min) + x1min\n",
        "xtrain['L(T-2)'] = xtrain['L(T-2)'] * (x2max - x2min) + x2min\n",
        "xtrain['L(T-1)'] = xtrain['L(T-1)'] * (x3max - x3min) + x3min\n",
        "ytrain = ytrain * (ymax - ymin) + ymin\n",
        "xtest['L(T-3)'] = xtest['L(T-3)'] * (x1max - x1min) + x1min\n",
        "xtest['L(T-2)'] = xtest['L(T-2)'] * (x2max - x2min) + x2min\n",
        "xtest['L(T-1)'] = xtest['L(T-1)'] * (x3max - x3min) + x3min\n",
        "ytest = ytest * (ymax - ymin) + ymin\n",
        "ytrainPred = np.multiply(ytrainPred, (ymax - ymin)) + ymin\n",
        "ytestPred = np.multiply(ytestPred, (ymax - ymin)) + ymin"
      ],
      "execution_count": 10,
      "outputs": [
        {
          "output_type": "stream",
          "name": "stderr",
          "text": [
            "/usr/local/lib/python3.7/dist-packages/ipykernel_launcher.py:1: SettingWithCopyWarning: \n",
            "A value is trying to be set on a copy of a slice from a DataFrame.\n",
            "Try using .loc[row_indexer,col_indexer] = value instead\n",
            "\n",
            "See the caveats in the documentation: https://pandas.pydata.org/pandas-docs/stable/user_guide/indexing.html#returning-a-view-versus-a-copy\n",
            "  \"\"\"Entry point for launching an IPython kernel.\n",
            "/usr/local/lib/python3.7/dist-packages/ipykernel_launcher.py:2: SettingWithCopyWarning: \n",
            "A value is trying to be set on a copy of a slice from a DataFrame.\n",
            "Try using .loc[row_indexer,col_indexer] = value instead\n",
            "\n",
            "See the caveats in the documentation: https://pandas.pydata.org/pandas-docs/stable/user_guide/indexing.html#returning-a-view-versus-a-copy\n",
            "  \n",
            "/usr/local/lib/python3.7/dist-packages/ipykernel_launcher.py:3: SettingWithCopyWarning: \n",
            "A value is trying to be set on a copy of a slice from a DataFrame.\n",
            "Try using .loc[row_indexer,col_indexer] = value instead\n",
            "\n",
            "See the caveats in the documentation: https://pandas.pydata.org/pandas-docs/stable/user_guide/indexing.html#returning-a-view-versus-a-copy\n",
            "  This is separate from the ipykernel package so we can avoid doing imports until\n",
            "/usr/local/lib/python3.7/dist-packages/ipykernel_launcher.py:5: SettingWithCopyWarning: \n",
            "A value is trying to be set on a copy of a slice from a DataFrame.\n",
            "Try using .loc[row_indexer,col_indexer] = value instead\n",
            "\n",
            "See the caveats in the documentation: https://pandas.pydata.org/pandas-docs/stable/user_guide/indexing.html#returning-a-view-versus-a-copy\n",
            "  \"\"\"\n",
            "/usr/local/lib/python3.7/dist-packages/ipykernel_launcher.py:6: SettingWithCopyWarning: \n",
            "A value is trying to be set on a copy of a slice from a DataFrame.\n",
            "Try using .loc[row_indexer,col_indexer] = value instead\n",
            "\n",
            "See the caveats in the documentation: https://pandas.pydata.org/pandas-docs/stable/user_guide/indexing.html#returning-a-view-versus-a-copy\n",
            "  \n",
            "/usr/local/lib/python3.7/dist-packages/ipykernel_launcher.py:7: SettingWithCopyWarning: \n",
            "A value is trying to be set on a copy of a slice from a DataFrame.\n",
            "Try using .loc[row_indexer,col_indexer] = value instead\n",
            "\n",
            "See the caveats in the documentation: https://pandas.pydata.org/pandas-docs/stable/user_guide/indexing.html#returning-a-view-versus-a-copy\n",
            "  import sys\n"
          ]
        }
      ]
    },
    {
      "cell_type": "code",
      "metadata": {
        "colab": {
          "base_uri": "https://localhost:8080/"
        },
        "id": "PqMo1ms4F6xo",
        "outputId": "5e160a92-3328-4f2f-e849-e29c172309b6"
      },
      "source": [
        "MAE_Train = mean_absolute_error(ytrainPred, ytrain) #Testing MAE\n",
        "MSE_Train = mean_squared_error(ytrainPred, ytrain) #Testing MSE\n",
        "RMSE_Train = mean_squared_error(ytrainPred, ytrain) ** 0.5 #Testing RMSE\n",
        "MAE_Test = mean_absolute_error(ytestPred, ytest) #Testing MAE\n",
        "MSE_Test = mean_squared_error(ytestPred, ytest) #Testing MSE\n",
        "RMSE_Test = mean_squared_error(ytestPred, ytest) ** 0.5 #Testing RMSE\n",
        "print('Training Error :')\n",
        "print('Mean Absolute Error :', MAE_Train)\n",
        "print('Mean Squared Error :', MSE_Train)\n",
        "print('Root Mean Squared Error :', RMSE_Train)\n",
        "print('\\nTesting Error :')\n",
        "print('Mean Absolute Error :', MAE_Test)\n",
        "print('Mean Squared Error :', MSE_Test)\n",
        "print('Root Mean Squared Error :', RMSE_Test)"
      ],
      "execution_count": 11,
      "outputs": [
        {
          "output_type": "stream",
          "name": "stdout",
          "text": [
            "Training Error :\n",
            "Mean Absolute Error : 172.8620046170763\n",
            "Mean Squared Error : 44145.9293610335\n",
            "Root Mean Squared Error : 210.1093271633449\n",
            "\n",
            "Testing Error :\n",
            "Mean Absolute Error : 600.28043735346\n",
            "Mean Squared Error : 360336.6034692612\n",
            "Root Mean Squared Error : 600.28043735346\n"
          ]
        }
      ]
    },
    {
      "cell_type": "code",
      "metadata": {
        "colab": {
          "base_uri": "https://localhost:8080/",
          "height": 470
        },
        "id": "z6k5RMbXGALl",
        "outputId": "d9dc7360-372b-443e-eb68-3919467ed8df"
      },
      "source": [
        "xtrain['Y_Train'] = ytrain\n",
        "xtrain['Y_Train_Prediction'] = ytrainPred\n",
        "xtrain"
      ],
      "execution_count": 12,
      "outputs": [
        {
          "output_type": "stream",
          "name": "stderr",
          "text": [
            "/usr/local/lib/python3.7/dist-packages/ipykernel_launcher.py:1: SettingWithCopyWarning: \n",
            "A value is trying to be set on a copy of a slice from a DataFrame.\n",
            "Try using .loc[row_indexer,col_indexer] = value instead\n",
            "\n",
            "See the caveats in the documentation: https://pandas.pydata.org/pandas-docs/stable/user_guide/indexing.html#returning-a-view-versus-a-copy\n",
            "  \"\"\"Entry point for launching an IPython kernel.\n",
            "/usr/local/lib/python3.7/dist-packages/ipykernel_launcher.py:2: SettingWithCopyWarning: \n",
            "A value is trying to be set on a copy of a slice from a DataFrame.\n",
            "Try using .loc[row_indexer,col_indexer] = value instead\n",
            "\n",
            "See the caveats in the documentation: https://pandas.pydata.org/pandas-docs/stable/user_guide/indexing.html#returning-a-view-versus-a-copy\n",
            "  \n"
          ]
        },
        {
          "output_type": "execute_result",
          "data": {
            "text/html": [
              "<div>\n",
              "<style scoped>\n",
              "    .dataframe tbody tr th:only-of-type {\n",
              "        vertical-align: middle;\n",
              "    }\n",
              "\n",
              "    .dataframe tbody tr th {\n",
              "        vertical-align: top;\n",
              "    }\n",
              "\n",
              "    .dataframe thead th {\n",
              "        text-align: right;\n",
              "    }\n",
              "</style>\n",
              "<table border=\"1\" class=\"dataframe\">\n",
              "  <thead>\n",
              "    <tr style=\"text-align: right;\">\n",
              "      <th></th>\n",
              "      <th>L(T-3)</th>\n",
              "      <th>L(T-2)</th>\n",
              "      <th>L(T-1)</th>\n",
              "      <th>Y_Train</th>\n",
              "      <th>Y_Train_Prediction</th>\n",
              "    </tr>\n",
              "  </thead>\n",
              "  <tbody>\n",
              "    <tr>\n",
              "      <th>2</th>\n",
              "      <td>6329.97504</td>\n",
              "      <td>6292.87560</td>\n",
              "      <td>5349.80160</td>\n",
              "      <td>5225.40936</td>\n",
              "      <td>4958.115784</td>\n",
              "    </tr>\n",
              "    <tr>\n",
              "      <th>5</th>\n",
              "      <td>7068.22272</td>\n",
              "      <td>6515.78400</td>\n",
              "      <td>6350.08356</td>\n",
              "      <td>5502.25224</td>\n",
              "      <td>5682.047454</td>\n",
              "    </tr>\n",
              "    <tr>\n",
              "      <th>4</th>\n",
              "      <td>6155.70120</td>\n",
              "      <td>6212.12976</td>\n",
              "      <td>7424.25264</td>\n",
              "      <td>7407.41760</td>\n",
              "      <td>7393.852920</td>\n",
              "    </tr>\n",
              "    <tr>\n",
              "      <th>6</th>\n",
              "      <td>4931.26380</td>\n",
              "      <td>4775.53968</td>\n",
              "      <td>4713.81120</td>\n",
              "      <td>4689.02628</td>\n",
              "      <td>4611.297746</td>\n",
              "    </tr>\n",
              "    <tr>\n",
              "      <th>1</th>\n",
              "      <td>5196.25980</td>\n",
              "      <td>5641.29720</td>\n",
              "      <td>7153.17732</td>\n",
              "      <td>7849.80504</td>\n",
              "      <td>7515.302489</td>\n",
              "    </tr>\n",
              "    <tr>\n",
              "      <th>3</th>\n",
              "      <td>5000.47452</td>\n",
              "      <td>4775.53968</td>\n",
              "      <td>6177.05676</td>\n",
              "      <td>6177.05676</td>\n",
              "      <td>6222.552737</td>\n",
              "    </tr>\n",
              "    <tr>\n",
              "      <th>7</th>\n",
              "      <td>4844.75040</td>\n",
              "      <td>5571.46296</td>\n",
              "      <td>6150.71304</td>\n",
              "      <td>6296.30496</td>\n",
              "      <td>6587.958462</td>\n",
              "    </tr>\n",
              "  </tbody>\n",
              "</table>\n",
              "</div>"
            ],
            "text/plain": [
              "       L(T-3)      L(T-2)      L(T-1)     Y_Train  Y_Train_Prediction\n",
              "2  6329.97504  6292.87560  5349.80160  5225.40936         4958.115784\n",
              "5  7068.22272  6515.78400  6350.08356  5502.25224         5682.047454\n",
              "4  6155.70120  6212.12976  7424.25264  7407.41760         7393.852920\n",
              "6  4931.26380  4775.53968  4713.81120  4689.02628         4611.297746\n",
              "1  5196.25980  5641.29720  7153.17732  7849.80504         7515.302489\n",
              "3  5000.47452  4775.53968  6177.05676  6177.05676         6222.552737\n",
              "7  4844.75040  5571.46296  6150.71304  6296.30496         6587.958462"
            ]
          },
          "metadata": {},
          "execution_count": 12
        }
      ]
    },
    {
      "cell_type": "code",
      "metadata": {
        "colab": {
          "base_uri": "https://localhost:8080/",
          "height": 284
        },
        "id": "Gu0nRL_4GnkW",
        "outputId": "d3897e32-377f-4ac8-bbf6-82286741e6b8"
      },
      "source": [
        "xtest['Y_Test'] = ytest\n",
        "xtest['Y_Test_Prediction'] = ytestPred\n",
        "xtest"
      ],
      "execution_count": 13,
      "outputs": [
        {
          "output_type": "stream",
          "name": "stderr",
          "text": [
            "/usr/local/lib/python3.7/dist-packages/ipykernel_launcher.py:1: SettingWithCopyWarning: \n",
            "A value is trying to be set on a copy of a slice from a DataFrame.\n",
            "Try using .loc[row_indexer,col_indexer] = value instead\n",
            "\n",
            "See the caveats in the documentation: https://pandas.pydata.org/pandas-docs/stable/user_guide/indexing.html#returning-a-view-versus-a-copy\n",
            "  \"\"\"Entry point for launching an IPython kernel.\n",
            "/usr/local/lib/python3.7/dist-packages/ipykernel_launcher.py:2: SettingWithCopyWarning: \n",
            "A value is trying to be set on a copy of a slice from a DataFrame.\n",
            "Try using .loc[row_indexer,col_indexer] = value instead\n",
            "\n",
            "See the caveats in the documentation: https://pandas.pydata.org/pandas-docs/stable/user_guide/indexing.html#returning-a-view-versus-a-copy\n",
            "  \n"
          ]
        },
        {
          "output_type": "execute_result",
          "data": {
            "text/html": [
              "<div>\n",
              "<style scoped>\n",
              "    .dataframe tbody tr th:only-of-type {\n",
              "        vertical-align: middle;\n",
              "    }\n",
              "\n",
              "    .dataframe tbody tr th {\n",
              "        vertical-align: top;\n",
              "    }\n",
              "\n",
              "    .dataframe thead th {\n",
              "        text-align: right;\n",
              "    }\n",
              "</style>\n",
              "<table border=\"1\" class=\"dataframe\">\n",
              "  <thead>\n",
              "    <tr style=\"text-align: right;\">\n",
              "      <th></th>\n",
              "      <th>L(T-3)</th>\n",
              "      <th>L(T-2)</th>\n",
              "      <th>L(T-1)</th>\n",
              "      <th>Y_Test</th>\n",
              "      <th>Y_Test_Prediction</th>\n",
              "    </tr>\n",
              "  </thead>\n",
              "  <tbody>\n",
              "    <tr>\n",
              "      <th>0</th>\n",
              "      <td>5551.82208</td>\n",
              "      <td>4983.17184</td>\n",
              "      <td>4888.3968</td>\n",
              "      <td>5072.95872</td>\n",
              "      <td>4472.678283</td>\n",
              "    </tr>\n",
              "  </tbody>\n",
              "</table>\n",
              "</div>"
            ],
            "text/plain": [
              "       L(T-3)      L(T-2)     L(T-1)      Y_Test  Y_Test_Prediction\n",
              "0  5551.82208  4983.17184  4888.3968  5072.95872        4472.678283"
            ]
          },
          "metadata": {},
          "execution_count": 13
        }
      ]
    },
    {
      "cell_type": "code",
      "metadata": {
        "colab": {
          "base_uri": "https://localhost:8080/"
        },
        "id": "imfY5Ag8GsU-",
        "outputId": "470df44b-46d7-46e4-e0c9-dec3ecc6a0f9"
      },
      "source": [
        "x1 = float(input('Enter load at T-3 hours : '))\n",
        "x2 = float(input('Enter load at T-2 hours : '))\n",
        "x3 = float(input('Enter load at T-1 hours : '))\n",
        "x1Norm = (x1 - x1min) / (x1max - x1min)\n",
        "x2Norm = (x2 - x2min) / (x2max - x2min)\n",
        "x3Norm = (x3 - x3min) / (x3max - x3min)\n",
        "yPred = x1Norm * m[0] + x2Norm * m[1] + x3Norm * m[2] + c\n",
        "y = yPred * (ymax - ymin) + ymin\n",
        "print('Load at T hour :', y)"
      ],
      "execution_count": 14,
      "outputs": [
        {
          "output_type": "stream",
          "name": "stdout",
          "text": [
            "Enter load at T-3 hours : 8\n",
            "Enter load at T-2 hours : 4\n",
            "Enter load at T-1 hours : 2\n",
            "Load at T hour : 798.0694049078106\n"
          ]
        }
      ]
    }
  ]
}