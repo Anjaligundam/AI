{
  "nbformat": 4,
  "nbformat_minor": 0,
  "metadata": {
    "colab": {
      "name": "AI539ass2.ipynb",
      "provenance": [],
      "authorship_tag": "ABX9TyNyWYetPQekRO8N6AG/ZCPT",
      "include_colab_link": true
    },
    "kernelspec": {
      "name": "python3",
      "display_name": "Python 3"
    },
    "language_info": {
      "name": "python"
    }
  },
  "cells": [
    {
      "cell_type": "markdown",
      "metadata": {
        "id": "view-in-github",
        "colab_type": "text"
      },
      "source": [
        "<a href=\"https://colab.research.google.com/github/Anjaligundam/AI/blob/main/AI539ass2.ipynb\" target=\"_parent\"><img src=\"https://colab.research.google.com/assets/colab-badge.svg\" alt=\"Open In Colab\"/></a>"
      ]
    },
    {
      "cell_type": "code",
      "metadata": {
        "colab": {
          "base_uri": "https://localhost:8080/"
        },
        "id": "jwFzbS5_wtAc",
        "outputId": "29d17722-feee-46c9-a8b6-844d390bb239"
      },
      "source": [
        "import numpy as np\n",
        "import math\n",
        "x=np.random.uniform(-5,5)\n",
        "eta=0.1\n",
        "iter_max=50\n",
        "iter=1\n",
        "while iter<=iter_max:\n",
        "  g_x = 4*x*x*x + 6*x\n",
        "  d_x=-eta*g_x\n",
        "  x=x+d_x\n",
        "  iter=iter+1\n",
        "obj=pow(x,4)+3*pow(x,2)+10\n",
        "print(\"Minimum =\",obj,\"at X=\",x,)"
      ],
      "execution_count": 3,
      "outputs": [
        {
          "output_type": "stream",
          "name": "stdout",
          "text": [
            "Minimum = 10.0 at X= 1.4439201123712013e-20\n"
          ]
        }
      ]
    }
  ]
}