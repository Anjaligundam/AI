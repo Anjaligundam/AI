{
  "nbformat": 4,
  "nbformat_minor": 0,
  "metadata": {
    "colab": {
      "name": "AI539ass3.ipynb",
      "provenance": [],
      "authorship_tag": "ABX9TyNNCXkvPpEiCAoSmev1hpa4",
      "include_colab_link": true
    },
    "kernelspec": {
      "name": "python3",
      "display_name": "Python 3"
    },
    "language_info": {
      "name": "python"
    }
  },
  "cells": [
    {
      "cell_type": "markdown",
      "metadata": {
        "id": "view-in-github",
        "colab_type": "text"
      },
      "source": [
        "<a href=\"https://colab.research.google.com/github/Anjaligundam/AI/blob/main/AI539ass3.ipynb\" target=\"_parent\"><img src=\"https://colab.research.google.com/assets/colab-badge.svg\" alt=\"Open In Colab\"/></a>"
      ]
    },
    {
      "cell_type": "code",
      "metadata": {
        "colab": {
          "base_uri": "https://localhost:8080/"
        },
        "id": "G_3iCEcbxGY3",
        "outputId": "43847a84-7994-4120-ce13-e879e36bde84"
      },
      "source": [
        "\n",
        "import numpy as np\n",
        "import math\n",
        "x=np.random.uniform(-10,10)\n",
        "y=np.random.uniform(-10,10)\n",
        "eta=0.1\n",
        "iter_max=30\n",
        "iter=1\n",
        "while iter<=iter_max:\n",
        "  g_x= 6*x\n",
        "  g_y= -5*(math.exp(-y))\n",
        "  d_x=-eta*g_x\n",
        "  d_y=-eta*g_y\n",
        "  x=x+d_x\n",
        "  y=y+d_y\n",
        "  iter=iter+1\n",
        "obj=3*x*x+5*math.exp(-y)+10\n",
        "print(\"Minimum =\",obj,\"at X=\",x,\"Y=\",y)"
      ],
      "execution_count": 2,
      "outputs": [
        {
          "output_type": "stream",
          "name": "stdout",
          "text": [
            "Minimum = 10.000027106972812 at X= 3.919061154484869e-12 Y= 12.125157476236359\n"
          ]
        }
      ]
    }
  ]
}